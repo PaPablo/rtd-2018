{
 "cells": [
  {
   "cell_type": "markdown",
   "metadata": {},
   "source": [
    "# Trabajo Práctico 2"
   ]
  },
  {
   "cell_type": "markdown",
   "metadata": {},
   "source": [
    "## Cátedra:\n",
    "###   Profesor: Mg. Ricardo López\n",
    "###   JTP: Lic. Nahuel Deffosé\n",
    "\n",
    "## Integrantes\n",
    "\n",
    "### Pablo Adrian Toledo Margalef"
   ]
  },
  {
   "cell_type": "markdown",
   "metadata": {},
   "source": [
    "## Parte 1 - TCP Fundamentos"
   ]
  },
  {
   "cell_type": "markdown",
   "metadata": {},
   "source": [
    "### 1) Dos aplicaciones en las máquinas A y B intercambian datos utilizando el protocolo TCP.\n",
    "\n",
    "> a) Durante el intercambio de datos entre A y B, luego de establecida la conexión, la máquina A no recibe una confirmación de B sobre su ultimo envío, por lo que retransmite el segmento no confirmado. Al cabo de un tiempo, B recibe las dos copias del segmento tal como A las envió. ¿B detecta que se trata de dos copias de la misma información? Justifique su respuesta.\n",
    "\n",
    "La máquina B detecta la duplicación de la información recibida por medio del número de secuencia que se encuentra en cada paquete.\n",
    "\n",
    "---\n",
    "\n",
    "> b) Suponga que la conexión TCP que A inició con B, es una sesión telnet, (o sea que A se conectará al puerto 23 de B). ¿Es posible que A inicie una segunda conexión TCP hacia el puerto 23 de B, manteniendo la primera conexión activa? Justifique su respuesta e indique, en caso de ser posible, cómo diferenciará A y B los segmentos correspondientes a cada una de las conexiones.\n",
    "\n",
    "Sí, es posible que el equipo A establezca más de una conexión con el equipo B. Debido que el equipo A abre por cada socket que interviene en la conexión con el equipo B abre un **puerto distinto** cada vez. Y el equipo B, al recibir paquetes del equipo A, los discrimina por el numero de puerto de origen para saber a quién devolver la respuesta adecuada a cada cliente\n",
    "\n",
    "---"
   ]
  },
  {
   "cell_type": "markdown",
   "metadata": {},
   "source": [
    "### 2) Responda: Verdadero o Falso y justifique.\n",
    "> El uso de ventanas de un protocolo:\n",
    "\n",
    "---\n",
    "\n",
    "> a) Permite aumentar la eficiencia de la transmisión.\n",
    "\n",
    "Verdadero, el uso de ventanas busca ocupar el canal de comunicación durante el mayor tiempo posible.\n",
    "\n",
    "---\n",
    "\n",
    "> b) Garantiza el control de errores.\n",
    "\n",
    "Falso, el control de errores está dado por el protocolo. \n",
    "\n",
    "---\n",
    "\n",
    "> c) Requiere la identificación de las tramas.\n",
    "\n",
    "Verdadero, para poder garantizar la entrega en orden desde la capa de transporte a aplicación. \n",
    "\n",
    "---\n",
    "\n",
    "> d) Disminuye el overhead del protocolo.\n",
    "\n",
    "Falso, aumenta el overhead debido a que tiene que mantener el movimiento de la ventana.\n",
    "\n",
    "---\n",
    "\n",
    "> e) Realiza el control de CRC.\n",
    "\n",
    "Verdadero¸por lo menos en Stop And Wait, el emisor agrega un campo de crc al paquete para poder ser verificado en el receptor y enviar un ACK o un NACK\n",
    "\n",
    "---\n",
    "\n",
    "> f) No acepta paquetes fuera de orden. \n",
    "\n",
    "Falso, los acepta. Luego depende del camino que tome en la retransimisión, si Go Back N o retransmisión selectiva si retrocede la ventana o mantiene los agujeros y los intenta rellenar."
   ]
  },
  {
   "cell_type": "markdown",
   "metadata": {},
   "source": [
    "### 3) Utilice el software Cliente – Servidor de la parte 2 del TP1 y lance el analizador de protocolos para observar la siguiente secuencia:\n",
    "\n",
    "Archivo utilizado:  tp-servidor-cliente.pcapng\n",
    "\n",
    ">a) Establezca conexión entre el cliente y el servidor, enviando un campo de datos del orden de 10 caracteres. Cierre luego la conexión.\n",
    "\n",
    "---\n",
    "\n",
    ">b) Indique la cantidad de paquetes circularon entre mbos extremos desde el inicio de la conexión hasta su cierre.\n",
    "\n",
    "12 paquetes en total.\n",
    "\n",
    "---\n",
    "\n",
    ">c) Observe e indique las banderas que se observan en el 3-Way y 4-Way de inicio y cierre de la conexión.\n",
    "\n",
    "En el 3-way de inicio (en orden):\n",
    "\n",
    "* SYN\n",
    "* SYN, ACK\n",
    "* ACK\n",
    "\n",
    "En el 4-way de cierre:\n",
    "\n",
    "* FIN,ACK\n",
    "* FIN,ACK\n",
    "* ACK\n",
    "\n",
    "*Sospecho que me falta el ACK de cierre desde el servidor ya que este dejó de responder antes de que pudiera enviar el ack del cliente a su FIN*\n",
    "\n",
    "---\n",
    "\n",
    ">d) Indique el número de secuencia que se observa en ambos extremos al inicio de la conexión. Y la ventana de Flujo de ambos extremos.\n",
    "\n",
    "En ambos extremos el número de secuencia al finalizar la conexión fue de 14 (secuencia relativa). Teniendo en cuenta que se envió el mensaje \"hola, chau!\". Al enviarlo en el cliente figura con un length de 13. Debido a que la secuencia se numera a nivel de byte, esta aumentó 14 por los 14 bytes enviados. Del lado del servidor se da el mismo fenómeno debido a que el servicio implementado es un \"echo\"\n",
    "\n",
    "---\n",
    "\n",
    ">e) Indique los números de secuencia que se observan para ambos extremos al término del 3-Way state (sin envío de datos). Qué le parece particular?\n",
    "\n",
    "Ambos números de secuencia se encuentran (en forma relativa) en 1, indicando que están listos para comenzar a transmitir.\n",
    "\n",
    "---\n",
    "\n",
    ">f) Indique los números de secuencia que se observan para ambos extremos al inicio del cierre de la conexión.\n",
    "\n",
    "Ambos están en 14, por la razón de haber enviado 13 bytes, indicando que el próximo byte que, hipotéticamente, enviarían, sería el byte 14.\n",
    "\n",
    "---\n",
    "\n",
    ">g) Indique los números de secuencia que se observan para ambos extremos al término del cierre de la conexión. Qué le parece particular?\n",
    "\n",
    "Se mantuvieron en 14 porque no se enviaron datos junto con las banderas de cierre de conexión\n",
    "\n",
    "---\n"
   ]
  },
  {
   "cell_type": "markdown",
   "metadata": {},
   "source": []
  }
 ],
 "metadata": {
  "kernelspec": {
   "display_name": "Python 3",
   "language": "python",
   "name": "python3"
  },
  "language_info": {
   "codemirror_mode": {
    "name": "ipython",
    "version": 3
   },
   "file_extension": ".py",
   "mimetype": "text/x-python",
   "name": "python",
   "nbconvert_exporter": "python",
   "pygments_lexer": "ipython3",
   "version": "3.6.4"
  }
 },
 "nbformat": 4,
 "nbformat_minor": 2
}
